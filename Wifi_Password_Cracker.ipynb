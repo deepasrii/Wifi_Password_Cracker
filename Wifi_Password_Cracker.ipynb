{
 "cells": [
  {
   "cell_type": "code",
   "execution_count": 4,
   "id": "be23d6e4",
   "metadata": {},
   "outputs": [],
   "source": [
    "import subprocess"
   ]
  },
  {
   "cell_type": "code",
   "execution_count": 6,
   "id": "875b3e60",
   "metadata": {},
   "outputs": [],
   "source": [
    "data = subprocess.check_output(['netsh','wlan','show','profiles']).decode('utf-8').split('\\n')\n",
    "profiles = [i.split(\":\")[1][1:-1] for i in data if \"All User Profile\" in i]\n",
    "for i in profiles:\n",
    "    result = subprocess.check_output(['netsh','wlan','show','profiles', i, 'key=clear']).decode('utf-8').split('\\n')\n",
    "    result = [b.split(\":\")[1][1:-1] for b in result if \"Key Content\" in b]\n",
    "    \n",
    "    try:\n",
    "        print(\"{:<30}| {:<}\".format(i, result[0]))\n",
    "    except:\n",
    "        print(\"{:<30}|{:<}\".format(i, \"\"))"
   ]
  }
 ],
 "metadata": {
  "kernelspec": {
   "display_name": "Python 3 (ipykernel)",
   "language": "python",
   "name": "python3"
  },
  "language_info": {
   "codemirror_mode": {
    "name": "ipython",
    "version": 3
   },
   "file_extension": ".py",
   "mimetype": "text/x-python",
   "name": "python",
   "nbconvert_exporter": "python",
   "pygments_lexer": "ipython3",
   "version": "3.9.7"
  }
 },
 "nbformat": 4,
 "nbformat_minor": 5
}
